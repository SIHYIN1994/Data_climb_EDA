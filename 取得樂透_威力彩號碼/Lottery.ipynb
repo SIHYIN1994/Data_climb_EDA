{
 "cells": [
  {
   "cell_type": "markdown",
   "id": "20912b50-b285-45cd-9010-853ad3c2670a",
   "metadata": {},
   "source": [
    "### 威力彩號碼擷取"
   ]
  },
  {
   "cell_type": "code",
   "execution_count": 15,
   "id": "5a841573-843e-4bd8-9577-bd09e25b81ee",
   "metadata": {},
   "outputs": [],
   "source": [
    "# 工具\n",
    "import numpy as np\n",
    "import json\n",
    "import requests"
   ]
  },
  {
   "cell_type": "code",
   "execution_count": 16,
   "id": "ee90b264-6a8d-423d-af8d-ea16b5c856b1",
   "metadata": {},
   "outputs": [],
   "source": [
    "# header\n",
    "header={\n",
    "    'User-Agent':'Mozilla/5.0 (Windows NT 10.0; Win64; x64) AppleWebKit/537.36 (KHTML, like Gecko) Chrome/126.0.0.0 Safari/537.36'\n",
    "}\n",
    "\n",
    "powerball_url='https://api.taiwanlottery.com/TLCAPIWeB/Lottery/SuperLotto638Result'\n",
    "lotto_url='https://api.taiwanlottery.com/TLCAPIWeB/Lottery/Lotto649Result'"
   ]
  },
  {
   "cell_type": "code",
   "execution_count": 64,
   "id": "a0dc6c6f-3227-4388-a2d8-81c4e07de751",
   "metadata": {},
   "outputs": [],
   "source": [
    "params={'period':''\n",
    "        ,'month':'2024-07'\n",
    "        ,'pageNum': '1'\n",
    "        ,'pageSize': '50'}\n",
    "number_str=lambda x: ' '.join(x)\n",
    "response=requests.get(lotto_url,headers=header,params=params)\n",
    "response.encoding='utf-8'\n",
    "lottery_num=json.loads(response.text)"
   ]
  },
  {
   "cell_type": "code",
   "execution_count": 68,
   "id": "c617c2b3-4fde-4fa5-9d36-f6b2c22013ca",
   "metadata": {},
   "outputs": [],
   "source": [
    "# 取威力彩或樂透號碼function\n",
    "def Lottery_result(url,headers,month_day='2024-07',period='',lotto=False):\n",
    "    params={'period':period\n",
    "        ,'month': month_day\n",
    "        ,'pageNum': '1'\n",
    "        ,'pageSize': '50'}\n",
    "    number_str=lambda x: ' '.join(x)\n",
    "    response=requests.get(url,headers=headers,params=params)\n",
    "    response.encoding='utf-8'\n",
    "    lottery_num=json.loads(response.text)\n",
    "    if lotto==True:\n",
    "        lottery_type='lotto649Res'\n",
    "        Assign='jackpotAssign'\n",
    "    else:\n",
    "        lottery_type='superLotto638Res'\n",
    "        Assign='super638JackpotAssign'\n",
    "    \n",
    "    for i in range((lottery_num['content']['totalSize']-1),-1,-1):\n",
    "        # 期數:'period'\n",
    "        period=lottery_num['content'][lottery_type][i]['period']\n",
    "        # 開獎日期\n",
    "        lotteryDate=(lottery_num['content'][lottery_type][i]['lotteryDate']).split('T')[0]\n",
    "        # 兌獎截止日\n",
    "        redeemableDate=(lottery_num['content'][lottery_type][i]['redeemableDate']).split('T')[0]\n",
    "        # 排序開獎號碼+特別號\n",
    "        Number=number_str(np.array((lottery_num['content'][lottery_type][i]['drawNumberSize'][:-1])).astype('str'))\n",
    "        special_number=lottery_num['content'][lottery_type][i]['drawNumberSize'][-1]\n",
    "        # 頭獎中獎人數\n",
    "        winnerCount=lottery_num['content'][lottery_type][i][Assign]['winnerCount']\n",
    "        # 累積總將金\n",
    "        total_amount='{:,}'.format(lottery_num['content'][lottery_type][i]['totalAmount'])\n",
    "        print (f'第 {period} 期\\n開獎日期: {lotteryDate}\\n兌獎截止: {redeemableDate}\\n第一區號碼: {Number}\\n特別號: {special_number}\\n頭獎中獎注數: {winnerCount}\\n累積總將金: {total_amount}')\n",
    "        print()"
   ]
  },
  {
   "cell_type": "markdown",
   "id": "43cb90f4-3fc6-4fc1-9cc1-8714db95c80e",
   "metadata": {},
   "source": [
    "### 測試 "
   ]
  },
  {
   "cell_type": "code",
   "execution_count": 71,
   "id": "a08e8532-ee8e-4edf-9922-7f482a1467fe",
   "metadata": {
    "tags": []
   },
   "outputs": [
    {
     "name": "stdout",
     "output_type": "stream",
     "text": [
      "第 113000066 期\n",
      "開獎日期: 2024-07-02\n",
      "兌獎截止: 2024-10-02\n",
      "第一區號碼: 1 33 38 39 41 45\n",
      "特別號: 46\n",
      "頭獎中獎注數: 0\n",
      "累積總將金: 108,935,418\n",
      "\n",
      "第 113000067 期\n",
      "開獎日期: 2024-07-05\n",
      "兌獎截止: 2024-10-07\n",
      "第一區號碼: 2 11 20 25 37 49\n",
      "特別號: 42\n",
      "頭獎中獎注數: 0\n",
      "累積總將金: 143,873,340\n",
      "\n",
      "第 113000068 期\n",
      "開獎日期: 2024-07-09\n",
      "兌獎截止: 2024-10-09\n",
      "第一區號碼: 15 18 19 31 39 40\n",
      "特別號: 25\n",
      "頭獎中獎注數: 0\n",
      "累積總將金: 154,743,195\n",
      "\n"
     ]
    }
   ],
   "source": [
    "# 測試-大樂透113年6月份\n",
    "Lottery_result(lotto_url,month_day='2024-07',headers=header,lotto=True)"
   ]
  },
  {
   "cell_type": "code",
   "execution_count": 72,
   "id": "89bb55c5-0af4-4949-aee3-f4d8ed6c5f77",
   "metadata": {},
   "outputs": [
    {
     "name": "stdout",
     "output_type": "stream",
     "text": [
      "第 113000053 期\n",
      "開獎日期: 2024-07-01\n",
      "兌獎截止: 2024-10-01\n",
      "第一區號碼: 2 3 12 17 30 33\n",
      "特別號: 5\n",
      "頭獎中獎注數: 0\n",
      "累積總將金: 206,382,912\n",
      "\n",
      "第 113000054 期\n",
      "開獎日期: 2024-07-04\n",
      "兌獎截止: 2024-10-04\n",
      "第一區號碼: 21 23 24 25 30 38\n",
      "特別號: 1\n",
      "頭獎中獎注數: 0\n",
      "累積總將金: 226,155,251\n",
      "\n",
      "第 113000055 期\n",
      "開獎日期: 2024-07-08\n",
      "兌獎截止: 2024-10-08\n",
      "第一區號碼: 10 11 13 30 32 37\n",
      "特別號: 5\n",
      "頭獎中獎注數: 0\n",
      "累積總將金: 252,304,430\n",
      "\n"
     ]
    }
   ],
   "source": [
    "# 測試-威力彩113年6月份\n",
    "Lottery_result(powerball_url,month_day='2024-07',headers=header)"
   ]
  }
 ],
 "metadata": {
  "kernelspec": {
   "display_name": "Python 3 (ipykernel)",
   "language": "python",
   "name": "python3"
  },
  "language_info": {
   "codemirror_mode": {
    "name": "ipython",
    "version": 3
   },
   "file_extension": ".py",
   "mimetype": "text/x-python",
   "name": "python",
   "nbconvert_exporter": "python",
   "pygments_lexer": "ipython3",
   "version": "3.9.11"
  }
 },
 "nbformat": 4,
 "nbformat_minor": 5
}
