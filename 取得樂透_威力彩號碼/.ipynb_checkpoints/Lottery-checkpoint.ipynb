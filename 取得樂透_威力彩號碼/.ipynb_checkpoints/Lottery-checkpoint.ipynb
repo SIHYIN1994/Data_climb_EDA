{
 "cells": [
  {
   "cell_type": "markdown",
   "id": "20912b50-b285-45cd-9010-853ad3c2670a",
   "metadata": {},
   "source": [
    "### 威力彩號碼擷取"
   ]
  },
  {
   "cell_type": "code",
   "execution_count": 3,
   "id": "5a841573-843e-4bd8-9577-bd09e25b81ee",
   "metadata": {},
   "outputs": [],
   "source": [
    "# 工具\n",
    "import numpy as np\n",
    "import json\n",
    "import requests"
   ]
  },
  {
   "cell_type": "code",
   "execution_count": 7,
   "id": "ee90b264-6a8d-423d-af8d-ea16b5c856b1",
   "metadata": {},
   "outputs": [],
   "source": [
    "# header\n",
    "header={\n",
    "    'User-Agent':'Mozilla/5.0 (Windows NT 10.0; Win64; x64) AppleWebKit/537.36 (KHTML, like Gecko) Chrome/126.0.0.0 Safari/537.36'\n",
    "}\n",
    "\n",
    "powerball_url='https://api.taiwanlottery.com/TLCAPIWeB/Lottery/SuperLotto638Result'\n",
    "lotto_url='https://api.taiwanlottery.com/TLCAPIWeB/Lottery/Lotto649Result'"
   ]
  },
  {
   "cell_type": "code",
   "execution_count": 8,
   "id": "c617c2b3-4fde-4fa5-9d36-f6b2c22013ca",
   "metadata": {},
   "outputs": [],
   "source": [
    "# 取威力彩或樂透號碼function\n",
    "\n",
    "def Lottery_result(url,headers,params,month_day='2024-07',period='',lotto=False):\n",
    "    params={'period':period\n",
    "        ,'month': month_day\n",
    "        ,'pageNum': '1'\n",
    "        ,'pageSize': '50'}\n",
    "    number_str=lambda x: ' '.join(x)\n",
    "    response=requests.get(url,headers=headers,params=params)\n",
    "    response.encoding='utf-8'\n",
    "    lottery_num=json.loads(response.text)\n",
    "    if lotto==True:\n",
    "        lottery_type='lotto649Res'\n",
    "        Assign='jackpotAssign'\n",
    "    else:\n",
    "        lottery_type='superLotto638Res'\n",
    "        Assign='super638JackpotAssign'\n",
    "    \n",
    "    for i in range((lottery_num['content']['totalSize']-1),-1,-1):\n",
    "        # 期數:'period'\n",
    "        period=lottery_num['content'][lottery_type][i]['period']\n",
    "        # 開獎日期\n",
    "        lotteryDate=(lottery_num['content'][lottery_type][i]['lotteryDate']).split('T')[0]\n",
    "        # 兌獎截止日\n",
    "        redeemableDate=(lottery_num['content'][lottery_type][i]['redeemableDate']).split('T')[0]\n",
    "        # 排序開獎號碼+特別號\n",
    "        Number=number_str(np.array((lottery_num['content'][lottery_type][i]['drawNumberSize'][:-1])).astype('str'))\n",
    "        special_number=lottery_num['content'][lottery_type][i]['drawNumberSize'][-1]\n",
    "        # 頭獎中獎人數\n",
    "        winnerCount=lottery_num['content'][lottery_type][i][Assign]['winnerCount']\n",
    "\n",
    "        print (f'第 {period} 期\\n開獎日期: {lotteryDate}\\n兌獎截止: {redeemableDate}\\n第一區號碼: {Number}\\n特別號: {special_number}\\n頭獎中獎注數: {winnerCount}')\n",
    "        print()"
   ]
  },
  {
   "cell_type": "code",
   "execution_count": 6,
   "id": "a08e8532-ee8e-4edf-9922-7f482a1467fe",
   "metadata": {
    "tags": []
   },
   "outputs": [
    {
     "name": "stdout",
     "output_type": "stream",
     "text": [
      "第 113000058 期\n",
      "開獎日期: 2024-06-04\n",
      "兌獎截止: 2024-09-04\n",
      "第一區號碼: 7 30 33 34 35 46\n",
      "特別號: 49\n",
      "頭獎中獎注數: 0\n",
      "\n",
      "第 113000059 期\n",
      "開獎日期: 2024-06-07\n",
      "兌獎截止: 2024-09-10\n",
      "第一區號碼: 19 24 29 36 37 43\n",
      "特別號: 17\n",
      "頭獎中獎注數: 1\n",
      "\n",
      "第 113000060 期\n",
      "開獎日期: 2024-06-11\n",
      "兌獎截止: 2024-09-11\n",
      "第一區號碼: 7 10 12 27 36 46\n",
      "特別號: 18\n",
      "頭獎中獎注數: 1\n",
      "\n",
      "第 113000061 期\n",
      "開獎日期: 2024-06-14\n",
      "兌獎截止: 2024-09-16\n",
      "第一區號碼: 1 7 9 18 36 47\n",
      "特別號: 32\n",
      "頭獎中獎注數: 0\n",
      "\n",
      "第 113000062 期\n",
      "開獎日期: 2024-06-18\n",
      "兌獎截止: 2024-09-18\n",
      "第一區號碼: 6 24 31 35 36 42\n",
      "特別號: 18\n",
      "頭獎中獎注數: 0\n",
      "\n",
      "第 113000063 期\n",
      "開獎日期: 2024-06-21\n",
      "兌獎截止: 2024-09-23\n",
      "第一區號碼: 2 17 31 42 44 46\n",
      "特別號: 10\n",
      "頭獎中獎注數: 1\n",
      "\n",
      "第 113000064 期\n",
      "開獎日期: 2024-06-25\n",
      "兌獎截止: 2024-09-25\n",
      "第一區號碼: 6 8 12 29 41 48\n",
      "特別號: 14\n",
      "頭獎中獎注數: 0\n",
      "\n",
      "第 113000065 期\n",
      "開獎日期: 2024-06-28\n",
      "兌獎截止: 2024-09-30\n",
      "第一區號碼: 10 11 25 31 36 41\n",
      "特別號: 27\n",
      "頭獎中獎注數: 0\n",
      "\n"
     ]
    }
   ],
   "source": [
    "# 測試-大樂透113年6月份\n",
    "Lottery_result(lotto_url,month_day='2024-06',headers=header,params=params,lotto=True)"
   ]
  },
  {
   "cell_type": "code",
   "execution_count": 9,
   "id": "89bb55c5-0af4-4949-aee3-f4d8ed6c5f77",
   "metadata": {},
   "outputs": [
    {
     "name": "stdout",
     "output_type": "stream",
     "text": [
      "第 113000036 期\n",
      "開獎日期: 2024-05-02\n",
      "兌獎截止: 2024-08-02\n",
      "第一區號碼: 13 17 24 26 33 35\n",
      "特別號: 6\n",
      "頭獎中獎注數: 0\n",
      "\n",
      "第 113000037 期\n",
      "開獎日期: 2024-05-06\n",
      "兌獎截止: 2024-08-06\n",
      "第一區號碼: 4 13 25 30 31 34\n",
      "特別號: 7\n",
      "頭獎中獎注數: 0\n",
      "\n",
      "第 113000038 期\n",
      "開獎日期: 2024-05-09\n",
      "兌獎截止: 2024-08-09\n",
      "第一區號碼: 10 14 22 29 35 37\n",
      "特別號: 7\n",
      "頭獎中獎注數: 0\n",
      "\n",
      "第 113000039 期\n",
      "開獎日期: 2024-05-13\n",
      "兌獎截止: 2024-08-13\n",
      "第一區號碼: 15 20 23 26 33 35\n",
      "特別號: 7\n",
      "頭獎中獎注數: 0\n",
      "\n",
      "第 113000040 期\n",
      "開獎日期: 2024-05-16\n",
      "兌獎截止: 2024-08-16\n",
      "第一區號碼: 1 2 10 13 18 30\n",
      "特別號: 1\n",
      "頭獎中獎注數: 0\n",
      "\n",
      "第 113000041 期\n",
      "開獎日期: 2024-05-20\n",
      "兌獎截止: 2024-08-20\n",
      "第一區號碼: 1 5 7 19 32 33\n",
      "特別號: 3\n",
      "頭獎中獎注數: 0\n",
      "\n",
      "第 113000042 期\n",
      "開獎日期: 2024-05-23\n",
      "兌獎截止: 2024-08-23\n",
      "第一區號碼: 4 8 14 21 25 37\n",
      "特別號: 3\n",
      "頭獎中獎注數: 0\n",
      "\n",
      "第 113000043 期\n",
      "開獎日期: 2024-05-27\n",
      "兌獎截止: 2024-08-27\n",
      "第一區號碼: 1 4 20 26 29 33\n",
      "特別號: 4\n",
      "頭獎中獎注數: 0\n",
      "\n",
      "第 113000044 期\n",
      "開獎日期: 2024-05-30\n",
      "兌獎截止: 2024-08-30\n",
      "第一區號碼: 6 7 16 21 27 31\n",
      "特別號: 6\n",
      "頭獎中獎注數: 0\n",
      "\n"
     ]
    }
   ],
   "source": [
    "# 測試-威力彩113年6月份\n",
    "Lottery_result(powerball_url,month_day='2024-05',headers=header,params=params)"
   ]
  },
  {
   "cell_type": "code",
   "execution_count": null,
   "id": "066cf539-2cb8-490c-842d-7e1300f6fc2e",
   "metadata": {},
   "outputs": [],
   "source": []
  }
 ],
 "metadata": {
  "kernelspec": {
   "display_name": "Python 3 (ipykernel)",
   "language": "python",
   "name": "python3"
  },
  "language_info": {
   "codemirror_mode": {
    "name": "ipython",
    "version": 3
   },
   "file_extension": ".py",
   "mimetype": "text/x-python",
   "name": "python",
   "nbconvert_exporter": "python",
   "pygments_lexer": "ipython3",
   "version": "3.9.11"
  }
 },
 "nbformat": 4,
 "nbformat_minor": 5
}
