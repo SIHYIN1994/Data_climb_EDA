{
 "cells": [
  {
   "cell_type": "markdown",
   "id": "be1f5825-02d2-46b8-83ae-d9f014ed1d53",
   "metadata": {},
   "source": [
    "## 高鐵時刻表 "
   ]
  },
  {
   "cell_type": "markdown",
   "id": "cd70df25-efac-40a6-87c2-d6cb7c6bbf52",
   "metadata": {},
   "source": [
    "使用Selenium"
   ]
  },
  {
   "cell_type": "code",
   "execution_count": 1,
   "id": "e3738b79-e746-45ca-ac60-50367cbde7e8",
   "metadata": {},
   "outputs": [],
   "source": [
    "# 工具\n",
    "from selenium import webdriver\n",
    "from selenium.webdriver.chrome.service import Service\n",
    "from selenium.webdriver.common.by import By\n",
    "from selenium.webdriver.common.keys import Keys\n",
    "from selenium.webdriver.support.ui import Select\n",
    "import time\n",
    "import numpy as np\n",
    "import pandas as pd"
   ]
  },
  {
   "cell_type": "code",
   "execution_count": 83,
   "id": "a4447f4b-a90c-4cda-9c1f-92d015df55dd",
   "metadata": {},
   "outputs": [],
   "source": [
    "# 高鐵時間查詢,早鳥優惠時段\n",
    "# date格式 'YYY.MM.DD'\n",
    "# time格式 'HH:MM'\n",
    "def hight_speed_rail(start,arrive,date,times='08:00'):\n",
    "    # option設置\n",
    "    options=webdriver.ChromeOptions()\n",
    "    # 不顯示\"正在接受測試\"\n",
    "    options.add_experimental_option(\"excludeSwitches\", ['enable-automation'])\n",
    "    options.add_experimental_option(\"useAutomationExtension\", False)\n",
    "    options.add_argument(\"--headless=new\")\n",
    "    # 建立driver\n",
    "    s=Service('../chromedriver-win32/chromedriver.exe')\n",
    "    driver=webdriver.Chrome(service=s,options=options)\n",
    "    time.sleep(1)\n",
    "    \n",
    "    driver.get('https://www.thsrc.com.tw/ArticleContent/a3b630bb-1066-4352-a1ef-58c7b4e8ef7c')\n",
    "    time.sleep(1)\n",
    "\n",
    "    # 同意使用說明\n",
    "    driver.find_element(By.XPATH,'/html/body/div[5]/div/div[3]/button[2]').click()\n",
    "\n",
    "    # 輸入資訊\n",
    "    from_station=Select(driver.find_element(By.ID,'select_location01'))\n",
    "    from_station.select_by_value(start)\n",
    "    time.sleep(1)\n",
    "    to_station=Select(driver.find_element(By.ID,'select_location02'))\n",
    "    to_station.select_by_value(arrive)\n",
    "    time.sleep(1)\n",
    "    \n",
    "    # 輸入票種(單程)\n",
    "    type_tic=Select(driver.find_element(By.XPATH,'//*[@id=\"typesofticket\"]'))\n",
    "    type_tic.select_by_value('tot-1')\n",
    "    time.sleep(1)\n",
    "    # 輸入日期\n",
    "    input_date = driver.find_element(By.XPATH, '//*[@id=\"Departdate03\"]')\n",
    "    driver.execute_script('arguments[0].value=arguments[1]', input_date, date)\n",
    "    time.sleep(1)\n",
    "    # 輸入時間\n",
    "    input_time = driver.find_element(By.XPATH, '//*[@id=\"outWardTime\"]')\n",
    "    driver.execute_script('arguments[0].value=arguments[1]', input_time, times)\n",
    "    time.sleep(1)\n",
    "    # 適用優惠\n",
    "    driver.find_element(By.XPATH,'//*[@id=\"content\"]/section[3]/div/div[2]/div/div[4]/div/button').click()\n",
    "    discount=driver.find_element(By.XPATH,'//*[@id=\"content\"]/section[3]/div/div[2]/div/div[4]/div/div/div/ul/li[1]/a')\n",
    "    # 點選早鳥\n",
    "    discount.click()\n",
    "    time.sleep(1)\n",
    "    # 送出\n",
    "    search=driver.find_element(By.ID,'start-search')\n",
    "    search.click()\n",
    "    time.sleep(3)\n",
    "    # 捲動頁面,按鈕才會出現\n",
    "    driver.execute_script('window.scrollTo(0,450);')\n",
    "    time.sleep(1)\n",
    "    \n",
    "    # 無適用車票\n",
    "    timetable=driver.find_element(By.XPATH,'//*[@id=\"ttab-01\"]')\n",
    "    no_discount=driver.find_element(By.XPATH,'//*[@id=\"timeTableTrain_S\"]')\n",
    "    not_available='無適用所選優惠專案之車次'\n",
    "    if not_available in timetable.text:\n",
    "        print(no_discount.text)\n",
    "    else:\n",
    "        # 翻頁,擷取\n",
    "        for i in range(6):\n",
    "            # 無法繼續按下一頁就退出迴圈\n",
    "            if driver.find_element(By.ID,'ttab-01_nextPage').get_attribute('style')=='visibility: visible;':\n",
    "                element=driver.find_elements(By.NAME,'timeTable')\n",
    "                # 印出來\n",
    "                for title in element:\n",
    "                    each_info=title.text.split('\\n')\n",
    "                    print(f'出發時間:{each_info[0]}, 行車時間:{each_info[1]}, 抵達時間:{each_info[2]}, 車次:{each_info[3]}, 自由座車廂:{each_info[4]}, 折扣:{each_info[5]}')\n",
    "                time.sleep(1)\n",
    "                driver.find_element(By.XPATH,'//*[@id=\"ttab-01_nextPage\"]').click()\n",
    "                time.sleep(2)\n",
    "            else:\n",
    "                element=driver.find_elements(By.NAME,'timeTable')\n",
    "                # 印出來\n",
    "                for title in element:\n",
    "                    each_info=title.text.split('\\n')\n",
    "                    print(f'出發時間:{each_info[0]}, 行車時間:{each_info[1]}, 抵達時間:{each_info[2]}, 車次:{each_info[3]}, 自由座車廂:{each_info[4]}, 折扣:{each_info[5]}')\n",
    "            \n",
    "                break\n",
    "            \n",
    "        # 票價資訊\n",
    "        print('='*37,'票價資訊','='*37)\n",
    "        price=driver.find_element(By.XPATH,'//*[@id=\"priceTable\"]')\n",
    "        prices=(price.text).split('\\n')\n",
    "        data=np.array((list(prices[1].split(' ')[1:]))+(list(prices[2].split(' ')[1:]))+(list(prices[3].split(' ')[1:]))).reshape(3,6)    \n",
    "        columns=prices[0].split(' ')    \n",
    "        indexs=[prices[1].split(' ')[0],prices[2].split(' ')[0],prices[3].split(' ')[0]]\n",
    "        display(pd.DataFrame(data,columns=columns,index=indexs))\n",
    "    driver.quit()"
   ]
  },
  {
   "cell_type": "markdown",
   "id": "482257d1-5ebf-4ca8-a263-a724a9181313",
   "metadata": {
    "tags": []
   },
   "source": [
    "### 查站名 "
   ]
  },
  {
   "cell_type": "code",
   "execution_count": null,
   "id": "11a7f320-e492-4453-a34a-ecdb58c40aa6",
   "metadata": {},
   "outputs": [],
   "source": [
    "# option設置\n",
    "options=webdriver.ChromeOptions()\n",
    "# 不顯示\"正在接受測試\"\n",
    "options.add_experimental_option(\"excludeSwitches\", ['enable-automation'])\n",
    "options.add_experimental_option(\"useAutomationExtension\", False)\n",
    "options.add_argument(\"--headless=new\")\n",
    "# 建立driver\n",
    "s=Service('../chromedriver-win32/chromedriver.exe')\n",
    "driver=webdriver.Chrome(service=s,options=options)\n",
    "time.sleep(1)\n",
    "\n",
    "driver.get('https://www.thsrc.com.tw/ArticleContent/a3b630bb-1066-4352-a1ef-58c7b4e8ef7c')\n",
    "time.sleep(1)\n",
    "\n",
    "# 同意使用說明\n",
    "driver.find_element(By.XPATH,'/html/body/div[5]/div/div[3]/button[2]').click()\n",
    "\n",
    "# 站名\n",
    "select=driver.find_element(By.ID,'select_location01')\n",
    "element=select.find_elements(By.TAG_NAME,'option')\n",
    "stations=[]\n",
    "for i in element:\n",
    "    stations.append(i.get_dom_attribute('value'))\n",
    "print(stations)\n",
    "\n",
    "# 關閉\n",
    "driver.quit()"
   ]
  },
  {
   "cell_type": "markdown",
   "id": "9c36ba54-7c1e-45f6-bee0-68ddf9a38ff5",
   "metadata": {
    "tags": []
   },
   "source": [
    "### 測試 "
   ]
  },
  {
   "cell_type": "code",
   "execution_count": 84,
   "id": "6a1ed6e5-c9b3-4673-a378-a3dc0962d7e0",
   "metadata": {},
   "outputs": [
    {
     "name": "stdout",
     "output_type": "stream",
     "text": [
      "出發時間:09:55, 行車時間:00:30, 抵達時間:10:25, 車次:0809, 自由座車廂:9-12, 折扣:8折起\n",
      "出發時間:11:55, 行車時間:00:30, 抵達時間:12:25, 車次:0817, 自由座車廂:10-12, 折扣:9折\n",
      "出發時間:12:55, 行車時間:00:30, 抵達時間:13:25, 車次:0821, 自由座車廂:10-12, 折扣:9折\n",
      "出發時間:13:55, 行車時間:00:30, 抵達時間:14:25, 車次:0825, 自由座車廂:10-12, 折扣:8折起\n",
      "出發時間:14:55, 行車時間:00:30, 抵達時間:15:25, 車次:0829, 自由座車廂:10-12, 折扣:8折起\n",
      "出發時間:14:55, 行車時間:00:30, 抵達時間:15:25, 車次:0829, 自由座車廂:10-12, 折扣:8折起\n",
      "出發時間:17:29, 行車時間:00:31, 抵達時間:18:00, 車次:1321, 自由座車廂:10-12, 折扣:9折\n",
      "出發時間:17:55, 行車時間:00:30, 抵達時間:18:25, 車次:0841, 自由座車廂:10-12, 折扣:65折起\n",
      "出發時間:18:55, 行車時間:00:30, 抵達時間:19:25, 車次:0845, 自由座車廂:9-12, 折扣:8折起\n",
      "出發時間:19:50, 行車時間:00:30, 抵達時間:20:20, 車次:0673, 自由座車廂:8-12, 折扣:8折起\n",
      "出發時間:19:50, 行車時間:00:30, 抵達時間:20:20, 車次:0673, 自由座車廂:8-12, 折扣:8折起\n",
      "出發時間:19:55, 行車時間:00:30, 抵達時間:20:25, 車次:0849, 自由座車廂:8-12, 折扣:8折起\n",
      "出發時間:20:14, 行車時間:00:31, 抵達時間:20:45, 車次:0675, 自由座車廂:9-12, 折扣:8折起\n",
      "出發時間:20:55, 行車時間:00:30, 抵達時間:21:25, 車次:0853, 自由座車廂:8-12, 折扣:8折起\n",
      "出發時間:21:55, 行車時間:00:30, 抵達時間:22:25, 車次:0857, 自由座車廂:9-12, 折扣:9折\n",
      "出發時間:21:55, 行車時間:00:30, 抵達時間:22:25, 車次:0857, 自由座車廂:9-12, 折扣:9折\n",
      "出發時間:22:14, 行車時間:00:31, 抵達時間:22:45, 車次:0687, 自由座車廂:10-12, 折扣:9折\n",
      "出發時間:22:55, 行車時間:00:30, 抵達時間:23:25, 車次:0861, 自由座車廂:10-12, 折扣:65折起\n",
      "出發時間:23:09, 行車時間:00:31, 抵達時間:23:40, 車次:0693, 自由座車廂:10-12, 折扣:65折起\n",
      "出發時間:23:24, 行車時間:00:31, 抵達時間:23:55, 車次:0333, 自由座車廂:10-12, 折扣:65折起\n",
      "出發時間:23:24, 行車時間:00:31, 抵達時間:23:55, 車次:0333, 自由座車廂:10-12, 折扣:65折起\n",
      "出發時間:23:30, 行車時間:00:29, 抵達時間:23:59, 車次:0295, 自由座車廂:10-12, 折扣:65折起\n",
      "===================================== 票價資訊 =====================================\n"
     ]
    },
    {
     "data": {
      "text/html": [
       "<div>\n",
       "<style scoped>\n",
       "    .dataframe tbody tr th:only-of-type {\n",
       "        vertical-align: middle;\n",
       "    }\n",
       "\n",
       "    .dataframe tbody tr th {\n",
       "        vertical-align: top;\n",
       "    }\n",
       "\n",
       "    .dataframe thead th {\n",
       "        text-align: right;\n",
       "    }\n",
       "</style>\n",
       "<table border=\"1\" class=\"dataframe\">\n",
       "  <thead>\n",
       "    <tr style=\"text-align: right;\">\n",
       "      <th></th>\n",
       "      <th>全票</th>\n",
       "      <th>孩童票/敬老票/愛心票</th>\n",
       "      <th>團體票</th>\n",
       "      <th>9折</th>\n",
       "      <th>8折</th>\n",
       "      <th>65折</th>\n",
       "    </tr>\n",
       "  </thead>\n",
       "  <tbody>\n",
       "    <tr>\n",
       "      <th>標準車廂</th>\n",
       "      <td>$410</td>\n",
       "      <td>$205</td>\n",
       "      <td>$385</td>\n",
       "      <td>$365</td>\n",
       "      <td>$325</td>\n",
       "      <td>$265</td>\n",
       "    </tr>\n",
       "    <tr>\n",
       "      <th>商務車廂</th>\n",
       "      <td>$820</td>\n",
       "      <td>$410</td>\n",
       "      <td>$775</td>\n",
       "      <td>-</td>\n",
       "      <td>-</td>\n",
       "      <td>-</td>\n",
       "    </tr>\n",
       "    <tr>\n",
       "      <th>自由座車廂</th>\n",
       "      <td>$395</td>\n",
       "      <td>$195</td>\n",
       "      <td>-</td>\n",
       "      <td>-</td>\n",
       "      <td>-</td>\n",
       "      <td>-</td>\n",
       "    </tr>\n",
       "  </tbody>\n",
       "</table>\n",
       "</div>"
      ],
      "text/plain": [
       "         全票 孩童票/敬老票/愛心票   團體票    9折    8折   65折\n",
       "標準車廂   $410        $205  $385  $365  $325  $265\n",
       "商務車廂   $820        $410  $775     -     -     -\n",
       "自由座車廂  $395        $195     -     -     -     -"
      ]
     },
     "metadata": {},
     "output_type": "display_data"
    }
   ],
   "source": [
    "# 測試\n",
    "# 嘉義-台北\n",
    "hight_speed_rail(start='JiaYi',arrive='ZuoYing',date='2024.07.15')"
   ]
  },
  {
   "cell_type": "code",
   "execution_count": 77,
   "id": "06ccd60a-7922-4944-8c3a-605ebabd4c16",
   "metadata": {},
   "outputs": [],
   "source": [
    "driver.quit()"
   ]
  },
  {
   "cell_type": "code",
   "execution_count": null,
   "id": "609540d3-f715-42db-bba4-be98778f8861",
   "metadata": {},
   "outputs": [],
   "source": []
  }
 ],
 "metadata": {
  "kernelspec": {
   "display_name": "Python 3 (ipykernel)",
   "language": "python",
   "name": "python3"
  },
  "language_info": {
   "codemirror_mode": {
    "name": "ipython",
    "version": 3
   },
   "file_extension": ".py",
   "mimetype": "text/x-python",
   "name": "python",
   "nbconvert_exporter": "python",
   "pygments_lexer": "ipython3",
   "version": "3.9.11"
  }
 },
 "nbformat": 4,
 "nbformat_minor": 5
}
